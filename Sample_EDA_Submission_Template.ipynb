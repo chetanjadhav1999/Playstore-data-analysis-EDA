{
  "nbformat": 4,
  "nbformat_minor": 0,
  "metadata": {
    "colab": {
      "private_outputs": true,
      "provenance": [],
      "collapsed_sections": [
        "vncDsAP0Gaoa",
        "FJNUwmbgGyua",
        "w6K7xa23Elo4",
        "yQaldy8SH6Dl",
        "PH-0ReGfmX4f",
        "mDgbUHAGgjLW",
        "O_i_v8NEhb9l",
        "HhfV-JJviCcP",
        "Y3lxredqlCYt",
        "3RnN4peoiCZX",
        "x71ZqKXriCWQ",
        "7hBIi_osiCS2",
        "JlHwYmJAmNHm",
        "35m5QtbWiB9F",
        "PoPl-ycgm1ru",
        "H0kj-8xxnORC",
        "nA9Y7ga8ng1Z",
        "PBTbrJXOngz2",
        "u3PMJOP6ngxN",
        "dauF4eBmngu3",
        "bKJF3rekwFvQ",
        "MSa1f5Uengrz",
        "GF8Ens_Soomf",
        "0wOQAZs5pc--",
        "K5QZ13OEpz2H",
        "lQ7QKXXCp7Bj",
        "448CDAPjqfQr",
        "KSlN3yHqYklG",
        "t6dVpIINYklI",
        "ijmpgYnKYklI",
        "-JiQyfWJYklI",
        "EM7whBJCYoAo",
        "fge-S5ZAYoAp",
        "85gYPyotYoAp",
        "RoGjAbkUYoAp",
        "4Of9eVA-YrdM",
        "iky9q4vBYrdO",
        "F6T5p64dYrdO",
        "y-Ehk30pYrdP",
        "bamQiAODYuh1",
        "QHF8YVU7Yuh3",
        "GwzvFGzlYuh3",
        "qYpmQ266Yuh3",
        "OH-pJp9IphqM",
        "bbFf2-_FphqN",
        "_ouA3fa0phqN",
        "Seke61FWphqN",
        "PIIx-8_IphqN",
        "t27r6nlMphqO",
        "r2jJGEOYphqO",
        "b0JNsNcRphqO",
        "BZR9WyysphqO",
        "jj7wYXLtphqO",
        "eZrbJ2SmphqO",
        "rFu4xreNphqO",
        "YJ55k-q6phqO",
        "gCFgpxoyphqP",
        "OVtJsKN_phqQ",
        "lssrdh5qphqQ",
        "U2RJ9gkRphqQ",
        "1M8mcRywphqQ",
        "tgIPom80phqQ",
        "JMzcOPDDphqR",
        "x-EpHcCOp1ci",
        "X_VqEhTip1ck",
        "8zGJKyg5p1ck",
        "PVzmfK_Ep1ck",
        "n3dbpmDWp1ck",
        "ylSl6qgtp1ck",
        "ZWILFDl5p1ck",
        "M7G43BXep1ck",
        "Ag9LCva-p1cl",
        "E6MkPsBcp1cl",
        "2cELzS2fp1cl",
        "3MPXvC8up1cl",
        "NC_X3p0fY2L0",
        "UV0SzAkaZNRQ",
        "YPEH6qLeZNRQ",
        "q29F0dvdveiT",
        "EXh0U9oCveiU",
        "22aHeOlLveiV",
        "JcMwzZxoAimU",
        "8G2x9gOozGDZ",
        "gCX9965dhzqZ",
        "gIfDvo9L0UH2"
      ],
      "include_colab_link": true
    },
    "kernelspec": {
      "name": "python3",
      "display_name": "Python 3"
    },
    "language_info": {
      "name": "python"
    }
  },
  "cells": [
    {
      "cell_type": "markdown",
      "metadata": {
        "id": "view-in-github",
        "colab_type": "text"
      },
      "source": [
        "<a href=\"https://colab.research.google.com/github/chetanjadhav1999/Playstore-data-analysis-EDA/blob/main/Sample_EDA_Submission_Template.ipynb\" target=\"_parent\"><img src=\"https://colab.research.google.com/assets/colab-badge.svg\" alt=\"Open In Colab\"/></a>"
      ]
    },
    {
      "cell_type": "markdown",
      "source": [
        "# **Project Name**    -**Playstore App Data Analysis**\n",
        "\n"
      ],
      "metadata": {
        "id": "vncDsAP0Gaoa"
      }
    },
    {
      "cell_type": "markdown",
      "source": [
        "##### **Project Type**    - EDA\n",
        "##### **Contribution**    - Individual\n"
      ],
      "metadata": {
        "id": "beRrZCGUAJYm"
      }
    },
    {
      "cell_type": "markdown",
      "source": [
        "# **Project Summary -**\n",
        "The Play Store apps data has enormous potential to drive app-making businesses to success. Actionable insights can be drawn for developers to work on and capture the Android market.\n",
        "\n",
        "Each app (row) has values for catergory, rating, size, and more. Another dataset contains customer reviews of the android apps.\n",
        "\n",
        "Explore and analyze the data to discover key factors responsible for app engagement and success.\n",
        "\n",
        "In this project, I used Exploratory Data Analysis (EDA) approach to analyze the data using visual techniques and discover Trends, and Patterns, or to check assumptions with the help of statistical summaries and graphical representations."
      ],
      "metadata": {
        "id": "FJNUwmbgGyua"
      }
    },
    {
      "cell_type": "markdown",
      "source": [
        "Write the summary here within 500-600 words."
      ],
      "metadata": {
        "id": "F6v_1wHtG2nS"
      }
    },
    {
      "cell_type": "markdown",
      "source": [
        "# **GitHub Link -**"
      ],
      "metadata": {
        "id": "w6K7xa23Elo4"
      }
    },
    {
      "cell_type": "markdown",
      "source": [
        "Provide your GitHub Link here."
      ],
      "metadata": {
        "id": "h1o69JH3Eqqn"
      }
    },
    {
      "cell_type": "markdown",
      "source": [
        "# **Problem Statement**\n"
      ],
      "metadata": {
        "id": "yQaldy8SH6Dl"
      }
    },
    {
      "cell_type": "markdown",
      "source": [
        "**Write Problem Statement Here.**\n",
        "Which category has the highest and lowest number of application?\n",
        "\n",
        "Which category has the highest and lowest number of installs?\n",
        "\n",
        "Which app category has the highest and lowest number of ratings?\n",
        "\n",
        "app category having the highest and lowest number of reviews?\n",
        "\n",
        "Number of apps and their distribution of ratings?\n",
        "\n",
        "How ratings,riviews,installsand size co-relate with each other?\n",
        "\n",
        "percentile of apps which are paid and free?\n",
        "\n",
        "How many percentile of age group present on application?\n",
        "\n",
        "Number of aplicatins with their android versions?\n",
        "\n",
        "Top five category of apps?\n",
        "\n",
        "Number of apps and their sizes?\n",
        "\n",
        "How is sentiment polarity varying for paid and free apps?\n",
        "\n",
        "Is subjectivity and polarity proportion to each other?"
      ],
      "metadata": {
        "id": "DpeJGUA3kjGy"
      }
    },
    {
      "cell_type": "markdown",
      "source": [
        "#### **Define Your Business Objective?**"
      ],
      "metadata": {
        "id": "PH-0ReGfmX4f"
      }
    },
    {
      "cell_type": "markdown",
      "source": [
        "Answer Here.\n",
        "The Play Store apps data has enormous potential to drive app-making businesses to success. Actionable insights can be drawn for developers to work on and capture the Android market\n",
        "\n"
      ],
      "metadata": {
        "id": "PhDvGCAqmjP1"
      }
    },
    {
      "cell_type": "markdown",
      "source": [
        "# **General Guidelines** : -  "
      ],
      "metadata": {
        "id": "mDgbUHAGgjLW"
      }
    },
    {
      "cell_type": "markdown",
      "source": [
        "1.   Well-structured, formatted, and commented code is required.\n",
        "2.   Exception Handling, Production Grade Code & Deployment Ready Code will be a plus. Those students will be awarded some additional credits.\n",
        "     \n",
        "     The additional credits will have advantages over other students during Star Student selection.\n",
        "       \n",
        "             [ Note: - Deployment Ready Code is defined as, the whole .ipynb notebook should be executable in one go\n",
        "                       without a single error logged. ]\n",
        "\n",
        "3.   Each and every logic should have proper comments.\n",
        "4. You may add as many number of charts you want. Make Sure for each and every chart the following format should be answered.\n",
        "        \n",
        "\n",
        "```\n",
        "# Chart visualization code\n",
        "```\n",
        "            \n",
        "\n",
        "*   Why did you pick the specific chart?\n",
        "*   What is/are the insight(s) found from the chart?\n",
        "* Will the gained insights help creating a positive business impact?\n",
        "Are there any insights that lead to negative growth? Justify with specific reason.\n",
        "\n",
        "5. You have to create at least 20 logical & meaningful charts having important insights.\n",
        "\n",
        "\n",
        "[ Hints : - Do the Vizualization in  a structured way while following \"UBM\" Rule.\n",
        "\n",
        "U - Univariate Analysis,\n",
        "\n",
        "B - Bivariate Analysis (Numerical - Categorical, Numerical - Numerical, Categorical - Categorical)\n",
        "\n",
        "M - Multivariate Analysis\n",
        " ]\n",
        "\n",
        "\n",
        "\n"
      ],
      "metadata": {
        "id": "ZrxVaUj-hHfC"
      }
    },
    {
      "cell_type": "markdown",
      "source": [
        "# ***Let's Begin !***"
      ],
      "metadata": {
        "id": "O_i_v8NEhb9l"
      }
    },
    {
      "cell_type": "markdown",
      "source": [
        "## ***1. Know Your Data***"
      ],
      "metadata": {
        "id": "HhfV-JJviCcP"
      }
    },
    {
      "cell_type": "markdown",
      "source": [
        "### Import Libraries"
      ],
      "metadata": {
        "id": "Y3lxredqlCYt"
      }
    },
    {
      "cell_type": "code",
      "source": [
        "# Import Libraries\n",
        "import pandas as pd\n",
        "import seaborn as sns\n",
        "import matplotlib.pyplot as plt\n",
        "%matplotlib inline\n",
        "import datetime as dt"
      ],
      "metadata": {
        "id": "M8Vqi-pPk-HR"
      },
      "execution_count": null,
      "outputs": []
    },
    {
      "cell_type": "markdown",
      "source": [
        "### Dataset Loading"
      ],
      "metadata": {
        "id": "3RnN4peoiCZX"
      }
    },
    {
      "cell_type": "code",
      "source": [
        "# Load Dataset\n",
        "from google.colab import drive\n",
        "drive.mount('/content/drive')"
      ],
      "metadata": {
        "id": "4CkvbW_SlZ_R"
      },
      "execution_count": null,
      "outputs": []
    },
    {
      "cell_type": "markdown",
      "source": [
        "### Dataset First View"
      ],
      "metadata": {
        "id": "x71ZqKXriCWQ"
      }
    },
    {
      "cell_type": "code",
      "source": [
        "# Dataset First Look\n",
        "play_store= pd.read_csv('/content/drive/MyDrive/Copy of Play Store Data.csv')\n",
        "play_store.head()\n",
        "user_review = pd.read_csv('/content/drive/MyDrive/Copy of User Reviews.csv')\n",
        "user_review.head()"
      ],
      "metadata": {
        "id": "LWNFOSvLl09H"
      },
      "execution_count": null,
      "outputs": []
    },
    {
      "cell_type": "code",
      "source": [
        "play_store.head()"
      ],
      "metadata": {
        "id": "KXd55aI2gjZC"
      },
      "execution_count": null,
      "outputs": []
    },
    {
      "cell_type": "code",
      "source": [
        "user_review.head()\n"
      ],
      "metadata": {
        "id": "JZBnvXg5gsMk"
      },
      "execution_count": null,
      "outputs": []
    },
    {
      "cell_type": "code",
      "source": [
        "user_review.dropna(how='all')\n",
        "user_review.head()"
      ],
      "metadata": {
        "id": "SY8BI09XuLsA"
      },
      "execution_count": null,
      "outputs": []
    },
    {
      "cell_type": "code",
      "source": [
        "# combining the two dataset in single dataset\n",
        "playstore_merged = pd.merge(play_store,user_review)\n",
        "playstore_merged.head()\n"
      ],
      "metadata": {
        "id": "Fn1cp6hWgARe"
      },
      "execution_count": null,
      "outputs": []
    },
    {
      "cell_type": "markdown",
      "source": [
        "### Dataset Rows & Columns count"
      ],
      "metadata": {
        "id": "7hBIi_osiCS2"
      }
    },
    {
      "cell_type": "code",
      "source": [
        "#dataset rows & columns\n",
        "playstore_merged.shape"
      ],
      "metadata": {
        "id": "v48lwS_Ehq2w"
      },
      "execution_count": null,
      "outputs": []
    },
    {
      "cell_type": "markdown",
      "source": [
        "### Dataset Information"
      ],
      "metadata": {
        "id": "JlHwYmJAmNHm"
      }
    },
    {
      "cell_type": "code",
      "source": [
        "# Dataset Info\n",
        "playstore_merged.info()"
      ],
      "metadata": {
        "id": "e9hRXRi6meOf"
      },
      "execution_count": null,
      "outputs": []
    },
    {
      "cell_type": "markdown",
      "source": [
        "#### Duplicate Values"
      ],
      "metadata": {
        "id": "35m5QtbWiB9F"
      }
    },
    {
      "cell_type": "code",
      "source": [
        "playstore_merged.drop_duplicates(subset=['Installs'])"
      ],
      "metadata": {
        "id": "WSsSNLta-f7e"
      },
      "execution_count": null,
      "outputs": []
    },
    {
      "cell_type": "code",
      "source": [
        "playstore_merged.duplicated(keep=False)"
      ],
      "metadata": {
        "id": "5UjZ4_soj4F1"
      },
      "execution_count": null,
      "outputs": []
    },
    {
      "cell_type": "code",
      "source": [
        "playstore_merged.drop_duplicates()"
      ],
      "metadata": {
        "id": "PzV2aupvllDM"
      },
      "execution_count": null,
      "outputs": []
    },
    {
      "cell_type": "code",
      "source": [
        "df = pd.DataFrame(playstore_merged)\n",
        "\n",
        "# Remove duplicates from each column\n",
        "df_no_duplicates = df.apply(lambda x: x.drop_duplicates().reset_index(drop=True))\n",
        "\n",
        "# Display the modified DataFrame\n",
        "print(df_no_duplicates)"
      ],
      "metadata": {
        "id": "xEi0ol9czSZI"
      },
      "execution_count": null,
      "outputs": []
    },
    {
      "cell_type": "code",
      "source": [
        "# Dataset Duplicate Value Count\n",
        "playstore_merged.duplicated().count()"
      ],
      "metadata": {
        "id": "qSwSgHrYzzxA"
      },
      "execution_count": null,
      "outputs": []
    },
    {
      "cell_type": "markdown",
      "source": [
        "#### Missing Values/Null Values"
      ],
      "metadata": {
        "id": "PoPl-ycgm1ru"
      }
    },
    {
      "cell_type": "code",
      "source": [
        "# Missing Values/Null Values Count\n",
        "nan_df = playstore_merged[playstore_merged.isna().any(axis=1)]\n",
        "nan_df.head()"
      ],
      "metadata": {
        "id": "GgHWkxvamxVg"
      },
      "execution_count": null,
      "outputs": []
    },
    {
      "cell_type": "code",
      "source": [
        "# remove all nan values\n",
        "playstore_merged = playstore_merged.dropna(how='all')\n",
        "playstore_merged.head()"
      ],
      "metadata": {
        "id": "k-ARJJcDnMyZ"
      },
      "execution_count": null,
      "outputs": []
    },
    {
      "cell_type": "code",
      "source": [
        "# Drop NaNs and duplicates in the dataframe\n",
        "apps = playstore_merged.dropna()\n",
        "apps = playstore_merged.drop_duplicates()\n",
        "print(len(apps))\n",
        "\n",
        "# Remove unwanted characters\n",
        "chars = ['$', '+', ',']\n",
        "cols = ['Installs','Price']\n",
        "\n",
        "for col in cols:\n",
        "  for char in chars:\n",
        "    apps[col] = apps[col].astype(str).str.replace(char,'')\n",
        "\n",
        "  # Convert columns back to numeric data type\n",
        "  apps[col] = pd.to_numeric(apps[col])\n",
        "\n",
        "# Standardize the size of Apps to MB\n",
        "apps['Size'] = apps['Size'].astype(str).str.replace('M','')\n",
        "apps['Size'] = apps['Size'].astype(str).str.replace('k','e-3')\n",
        "\n",
        "# Change the size 'Varies with device' to average app size as reported by Google\n",
        "apps['Size'] = apps['Size'].astype(str).str.replace('Varies with device','11.5')\n",
        "\n",
        "apps['Size'] = pd.to_numeric(apps['Size'])"
      ],
      "metadata": {
        "id": "UQzjvSf5oOVn"
      },
      "execution_count": null,
      "outputs": []
    },
    {
      "cell_type": "code",
      "source": [
        "playstore_merged['App'].str.replace('+','')\n",
        "playstore_merged['Installs'].str.replace('+','')\n"
      ],
      "metadata": {
        "id": "dedME-kW89jo"
      },
      "execution_count": null,
      "outputs": []
    },
    {
      "cell_type": "code",
      "source": [
        "playstore_merged.head()"
      ],
      "metadata": {
        "id": "_wPuFbcftsy4"
      },
      "execution_count": null,
      "outputs": []
    },
    {
      "cell_type": "code",
      "source": [
        "playstore_merged.dropna(subset=[\"Translated_Review\"], inplace=True)"
      ],
      "metadata": {
        "id": "0yCusyh8v4hE"
      },
      "execution_count": null,
      "outputs": []
    },
    {
      "cell_type": "code",
      "source": [
        "playstore_merged[playstore_merged.isna().any(axis=1)]\n",
        "playstore_merged.head(200)"
      ],
      "metadata": {
        "id": "SqnU7G3RwoFo"
      },
      "execution_count": null,
      "outputs": []
    },
    {
      "cell_type": "code",
      "source": [],
      "metadata": {
        "id": "dCqsXSqgxNpS"
      },
      "execution_count": null,
      "outputs": []
    },
    {
      "cell_type": "code",
      "source": [
        "# Visualizing the missing values"
      ],
      "metadata": {
        "id": "3q5wnI3om9sJ"
      },
      "execution_count": null,
      "outputs": []
    },
    {
      "cell_type": "markdown",
      "source": [
        "### What did you know about your dataset?"
      ],
      "metadata": {
        "id": "H0kj-8xxnORC"
      }
    },
    {
      "cell_type": "markdown",
      "source": [
        "Answer Here"
      ],
      "metadata": {
        "id": "gfoNAAC-nUe_"
      }
    },
    {
      "cell_type": "markdown",
      "source": [
        "## ***2. Understanding Your Variables***"
      ],
      "metadata": {
        "id": "nA9Y7ga8ng1Z"
      }
    },
    {
      "cell_type": "code",
      "source": [
        "# Dataset Columns\n",
        "playstore_merged.columns"
      ],
      "metadata": {
        "id": "j7xfkqrt5Ag5"
      },
      "execution_count": null,
      "outputs": []
    },
    {
      "cell_type": "code",
      "source": [
        "# Dataset Describe\n",
        "playstore_merged.describe()"
      ],
      "metadata": {
        "id": "DnOaZdaE5Q5t"
      },
      "execution_count": null,
      "outputs": []
    },
    {
      "cell_type": "code",
      "source": [
        "# Print the unique app categories\n",
        "apps = playstore_merged['App'].unique()\n",
        "print(apps)"
      ],
      "metadata": {
        "id": "J-o9PcG_3Kem"
      },
      "execution_count": null,
      "outputs": []
    },
    {
      "cell_type": "code",
      "source": [
        "# Check Unique Values for each variable.\n",
        "\n",
        "column_list = playstore_merged.columns\n",
        "\n",
        "for column_name in column_list:\n",
        "    unique_values = playstore_merged[column_name].unique()\n",
        "    print(f\"Unique values in {column_name}:\\n{unique_values}\")"
      ],
      "metadata": {
        "id": "Fm6Ui9Yd41Bn"
      },
      "execution_count": null,
      "outputs": []
    },
    {
      "cell_type": "code",
      "source": [
        "# to see the counts of unique values\n",
        "for column_name in column_list:\n",
        "    value_counts = playstore_merged[column_name].value_counts()\n",
        "    print(f\"Value counts in {column_name}:\\n{value_counts}\")"
      ],
      "metadata": {
        "id": "rOHmkA9Z5ED2"
      },
      "execution_count": null,
      "outputs": []
    },
    {
      "cell_type": "markdown",
      "source": [
        "### Variables Description"
      ],
      "metadata": {
        "id": "PBTbrJXOngz2"
      }
    },
    {
      "cell_type": "markdown",
      "source": [
        "Answer Here"
      ],
      "metadata": {
        "id": "aJV4KIxSnxay"
      }
    },
    {
      "cell_type": "markdown",
      "source": [
        "### Check Unique Values for each variable."
      ],
      "metadata": {
        "id": "u3PMJOP6ngxN"
      }
    },
    {
      "cell_type": "code",
      "source": [
        "# Check Unique Values for each variable.\n",
        "# Print the unique app categories\n",
        "categories = playstore_merged['Category'].unique()\n",
        "print(categories)"
      ],
      "metadata": {
        "id": "zms12Yq5n-jE"
      },
      "execution_count": null,
      "outputs": []
    },
    {
      "cell_type": "code",
      "source": [
        "# Print the unique app categories\n",
        "apps = playstore_merged['App'].unique()\n",
        "print(apps)"
      ],
      "metadata": {
        "id": "BWF17Tu_39ld"
      },
      "execution_count": null,
      "outputs": []
    },
    {
      "cell_type": "markdown",
      "source": [
        "## 3. ***Data Wrangling***"
      ],
      "metadata": {
        "id": "dauF4eBmngu3"
      }
    },
    {
      "cell_type": "markdown",
      "source": [
        "### Data Wrangling Code"
      ],
      "metadata": {
        "id": "bKJF3rekwFvQ"
      }
    },
    {
      "cell_type": "code",
      "source": [
        "# Write your code to make your dataset analysis ready.\n",
        "playstore_merged.head(-1)"
      ],
      "metadata": {
        "id": "wk-9a2fpoLcV"
      },
      "execution_count": null,
      "outputs": []
    },
    {
      "cell_type": "markdown",
      "source": [
        "### What all manipulations have you done and insights you found?"
      ],
      "metadata": {
        "id": "MSa1f5Uengrz"
      }
    },
    {
      "cell_type": "markdown",
      "source": [
        "Answer Here."
      ],
      "metadata": {
        "id": "LbyXE7I1olp8"
      }
    },
    {
      "cell_type": "markdown",
      "source": [
        "## ***4. Data Vizualization, Storytelling & Experimenting with charts : Understand the relationships between variables***"
      ],
      "metadata": {
        "id": "GF8Ens_Soomf"
      }
    },
    {
      "cell_type": "markdown",
      "source": [
        "#### Chart - 1"
      ],
      "metadata": {
        "id": "0wOQAZs5pc--"
      }
    },
    {
      "cell_type": "code",
      "source": [
        "# Chart - 1 visualization code\n",
        "# Plot App category and the total number of apps which fall into that category\n",
        "app_categories = playstore_merged['Category'].value_counts().sort_values()\n",
        "fig, ax = plt.subplots(figsize = (10,5))\n",
        "\n",
        "ax.bar(app_categories.index,app_categories.values)\n",
        "plt.xticks(rotation=90)\n",
        "plt.xlabel('App Category')\n",
        "plt.ylabel('Number of Apps')\n",
        "plt.show()"
      ],
      "metadata": {
        "id": "7v_ESjsspbW7"
      },
      "execution_count": null,
      "outputs": []
    },
    {
      "cell_type": "markdown",
      "source": [
        "##### 1. Why did you pick the specific chart?"
      ],
      "metadata": {
        "id": "K5QZ13OEpz2H"
      }
    },
    {
      "cell_type": "markdown",
      "source": [
        "Answer Here.\n",
        "Bar charts should be used when we are showing segments of information.\n",
        "\n",
        "So, here I want to show the segment of apps and their category that's why I chose a bar graph."
      ],
      "metadata": {
        "id": "XESiWehPqBRc"
      }
    },
    {
      "cell_type": "markdown",
      "source": [
        "##### 2. What is/are the insight(s) found from the chart?"
      ],
      "metadata": {
        "id": "lQ7QKXXCp7Bj"
      }
    },
    {
      "cell_type": "markdown",
      "source": [
        "Answer Here\n",
        "From above chart we can see that Game categor has the highest number of aplication and category comic has lowest number of aplication .\n"
      ],
      "metadata": {
        "id": "C_j1G7yiqdRP"
      }
    },
    {
      "cell_type": "markdown",
      "source": [
        "##### 3. Will the gained insights help creating a positive business impact?\n",
        "Are there any insights that lead to negative growth? Justify with specific reason."
      ],
      "metadata": {
        "id": "448CDAPjqfQr"
      }
    },
    {
      "cell_type": "markdown",
      "source": [
        "Answer Here\n",
        "From above insights we can see that app category like Games,Family,healt&fitness has highest number of applications and Beauty,comics and Events has least number of applications.\n",
        "so client should have to give more focus on such apps category which has least number of aplication like Beauty,family etc"
      ],
      "metadata": {
        "id": "3cspy4FjqxJW"
      }
    },
    {
      "cell_type": "markdown",
      "source": [
        "#### Chart - 2"
      ],
      "metadata": {
        "id": "KSlN3yHqYklG"
      }
    },
    {
      "cell_type": "code",
      "source": [
        "playstore_merged.dtypes\n"
      ],
      "metadata": {
        "id": "ewvfcwHGtU_n"
      },
      "execution_count": null,
      "outputs": []
    },
    {
      "cell_type": "code",
      "source": [
        "df = pd.DataFrame(playstore_merged)\n",
        "\n",
        "# Remove the '+' sign using str.replace()\n",
        "df['Size'] = df['Size'].str.replace('M', '')\n",
        "\n",
        "# Display the modified DataFrame\n",
        "print(df)"
      ],
      "metadata": {
        "id": "HW_yt8nrUSFw"
      },
      "execution_count": null,
      "outputs": []
    },
    {
      "cell_type": "code",
      "source": [
        "df = pd.DataFrame(playstore_merged)\n",
        "\n",
        "# Remove the '+' sign using str.replace()\n",
        "df['Installs'] = df['Installs'].str.replace('+', '')\n",
        "\n",
        "# Convert the column to numeric (optional)\n",
        "df['Installs'] = pd.to_numeric(df['Installs'].str.replace(',', ''))\n",
        "\n",
        "# Display the modified DataFrame\n",
        "print(df)"
      ],
      "metadata": {
        "id": "RJWth8WJwYRp"
      },
      "execution_count": null,
      "outputs": []
    },
    {
      "cell_type": "code",
      "source": [
        "playstore_merged[playstore_merged.duplicated(['Installs'])]"
      ],
      "metadata": {
        "id": "G1IE3iawqV8O"
      },
      "execution_count": null,
      "outputs": []
    },
    {
      "cell_type": "code",
      "source": [
        "#number of istalls based on category\n",
        "categories= playstore_merged.groupby('Category')[\"Installs\"].sum().reset_index()\n",
        "category_installs_sum_df=categories.sort_values(by='Installs', ascending=False)\n",
        "category_installs_sum_df"
      ],
      "metadata": {
        "id": "Mfe5ut7uQOa5"
      },
      "execution_count": null,
      "outputs": []
    },
    {
      "cell_type": "code",
      "source": [
        "#because of duplicate values in install we are getting error so use this method to remove duplicates\n",
        "df = playstore_merged[playstore_merged['Installs'].duplicated(keep=False)] # to see duplicate rows\n",
        "df = df[['Installs']].drop_duplicates()# to drop out the duplicates which occuring twice in data\n"
      ],
      "metadata": {
        "id": "8JBu0dofr7W9"
      },
      "execution_count": null,
      "outputs": []
    },
    {
      "cell_type": "code",
      "source": [
        "# Chart - 2 visualization code\n",
        "# Plot App Category vs Number of Installs\n",
        "fig, ax = plt.subplots(figsize = (10,5))\n",
        "app_category_installs = playstore_merged.groupby('Category').sum().sort_values('Installs',ascending=False)\n",
        "ax.bar(app_category_installs.index,app_category_installs.Installs)\n",
        "plt.xticks(rotation=90)\n",
        "plt.xlabel('App Category')\n",
        "plt.ylabel('Number of Installs')\n",
        "plt.show()"
      ],
      "metadata": {
        "id": "R4YgtaqtYklH"
      },
      "execution_count": null,
      "outputs": []
    },
    {
      "cell_type": "markdown",
      "source": [
        "##### 1. Why did you pick the specific chart?"
      ],
      "metadata": {
        "id": "t6dVpIINYklI"
      }
    },
    {
      "cell_type": "markdown",
      "source": [
        "Answer Here.\n",
        "Bar charts should be used when we are showing segments of information.\n",
        "\n",
        "So, here I want to show the segment of apps category and there installs that's why I chose a bar graph."
      ],
      "metadata": {
        "id": "5aaW0BYyYklI"
      }
    },
    {
      "cell_type": "markdown",
      "source": [
        "##### 2. What is/are the insight(s) found from the chart?"
      ],
      "metadata": {
        "id": "ijmpgYnKYklI"
      }
    },
    {
      "cell_type": "markdown",
      "source": [
        "Answer Here.\n",
        "As insights we can see Games,Photography and communication category has highest number of installs and category like Events,Beauty,Parenting and maps_and_nevigation has zero number number of installs.\n",
        "And category like Entertainment,Business and Personalization has very low number of installs.\n"
      ],
      "metadata": {
        "id": "PSx9atu2YklI"
      }
    },
    {
      "cell_type": "markdown",
      "source": [
        "##### 3. Will the gained insights help creating a positive business impact?\n",
        "Are there any insights that lead to negative growth? Justify with specific reason."
      ],
      "metadata": {
        "id": "-JiQyfWJYklI"
      }
    },
    {
      "cell_type": "markdown",
      "source": [
        "Answer Here.\n",
        "From the above visualization, we can say that it is profitable to list a game on the play store but in the category like event and beauty,event and comics it may lead a negative growth of business and apps."
      ],
      "metadata": {
        "id": "BcBbebzrYklV"
      }
    },
    {
      "cell_type": "markdown",
      "source": [
        "#### Chart - 3"
      ],
      "metadata": {
        "id": "EM7whBJCYoAo"
      }
    },
    {
      "cell_type": "code",
      "source": [
        "results = playstore_merged.groupby('App').sum()\n",
        "results"
      ],
      "metadata": {
        "id": "xFOn0qk2GIYh"
      },
      "execution_count": null,
      "outputs": []
    },
    {
      "cell_type": "code",
      "source": [
        "results2 = playstore_merged.groupby('Category').sum()\n",
        "results2"
      ],
      "metadata": {
        "id": "hsUYRzApMQlu"
      },
      "execution_count": null,
      "outputs": []
    },
    {
      "cell_type": "code",
      "source": [
        "da = playstore_merged[playstore_merged['App'].duplicated(keep=False)] # to see duplicate rows\n",
        "da = da[['App']].drop_duplicates()# to drop out the duplicates which occuring twice in data"
      ],
      "metadata": {
        "id": "aPrxr1ixH9A7"
      },
      "execution_count": null,
      "outputs": []
    },
    {
      "cell_type": "code",
      "source": [
        "# Chart - 3 visualization code\n",
        "#Which app catogory has the highest number of ratings\n",
        "fig, ax = plt.subplots(figsize = (10,5))\n",
        "ratings = [rating for rating,df in playstore_merged.groupby('Category')]\n",
        "plt.bar(ratings,results2['Rating'])\n",
        "plt.xticks(ratings,rotation=90,ha='right',rotation_mode='anchor',size=8)\n",
        "plt.ylabel('Ratings')\n",
        "plt.xlabel('category names',labelpad=15)# Increase label padding\n",
        "plt.tight_layout()  # Adjust layout for better spacing\n",
        "plt.show()"
      ],
      "metadata": {
        "id": "t6GMdE67YoAp"
      },
      "execution_count": null,
      "outputs": []
    },
    {
      "cell_type": "markdown",
      "source": [
        "##### 1. Why did you pick the specific chart?"
      ],
      "metadata": {
        "id": "fge-S5ZAYoAp"
      }
    },
    {
      "cell_type": "markdown",
      "source": [
        "Answer Here.\n",
        "Bar charts used when we are showing segments of information.\n",
        "\n"
      ],
      "metadata": {
        "id": "5dBItgRVYoAp"
      }
    },
    {
      "cell_type": "markdown",
      "source": [
        "##### 2. What is/are the insight(s) found from the chart?"
      ],
      "metadata": {
        "id": "85gYPyotYoAp"
      }
    },
    {
      "cell_type": "markdown",
      "source": [
        "Answer Here.\n",
        "From the chart we can see that category game has highest number of retings and category family has second highest number of retings.\n",
        "And category like event,maps and nevigation,comics has lwest number of retings."
      ],
      "metadata": {
        "id": "4jstXR6OYoAp"
      }
    },
    {
      "cell_type": "markdown",
      "source": [
        "##### 3. Will the gained insights help creating a positive business impact?\n",
        "Are there any insights that lead to negative growth? Justify with specific reason."
      ],
      "metadata": {
        "id": "RoGjAbkUYoAp"
      }
    },
    {
      "cell_type": "markdown",
      "source": [
        "Answer Here.\n",
        "From the above visualization,we see that category like  event,maps and nevigation,comics has lowest number of retings it means that people are not visiting these category of apps more often so that can lead to negative growth."
      ],
      "metadata": {
        "id": "zfJ8IqMcYoAp"
      }
    },
    {
      "cell_type": "markdown",
      "source": [
        "#### Chart - 4"
      ],
      "metadata": {
        "id": "4Of9eVA-YrdM"
      }
    },
    {
      "cell_type": "code",
      "source": [
        "df = pd.DataFrame(playstore_merged)\n",
        "\n",
        "# Convert specific columns to numeric type\n",
        "df['Reviews'] = pd.to_numeric(df['Reviews'],errors='coerce')\n",
        "df['Size'] = pd.to_numeric(df['Size'],errors='coerce')\n",
        "df['Price'] = pd.to_numeric(df['Price'],errors='coerce')\n"
      ],
      "metadata": {
        "id": "RttOAM7RTe-y"
      },
      "execution_count": null,
      "outputs": []
    },
    {
      "cell_type": "code",
      "source": [
        "# Drop rows with NaN values\n",
        "df.dropna(inplace=True)\n"
      ],
      "metadata": {
        "id": "wBVMRSm1V1yp"
      },
      "execution_count": null,
      "outputs": []
    },
    {
      "cell_type": "code",
      "source": [
        "playstore_merged.head()"
      ],
      "metadata": {
        "id": "mdyp18rzRWdf"
      },
      "execution_count": null,
      "outputs": []
    },
    {
      "cell_type": "code",
      "source": [
        "da = playstore_merged[playstore_merged['Reviews'].duplicated(keep=False)] # to see duplicate rows\n",
        "da = da[['Reviews']].drop_duplicates()# to drop out the duplicates which occuring twice in data"
      ],
      "metadata": {
        "id": "BYaHTyf9DkoO"
      },
      "execution_count": null,
      "outputs": []
    },
    {
      "cell_type": "code",
      "source": [
        "playstore_merged.duplicated(subset=['Reviews'])\n"
      ],
      "metadata": {
        "id": "Ab4RWBfHE7PU"
      },
      "execution_count": null,
      "outputs": []
    },
    {
      "cell_type": "code",
      "source": [
        "results3 = playstore_merged.groupby('Category').sum()\n",
        "results3"
      ],
      "metadata": {
        "id": "cqiCxdZ7Y_kv"
      },
      "execution_count": null,
      "outputs": []
    },
    {
      "cell_type": "code",
      "source": [
        "#top five apps based on Reviews\n",
        "\n",
        "most_expensive_app=playstore_merged\n",
        "most_expensive_app.sort_values(by=\"Reviews\",ascending=False)"
      ],
      "metadata": {
        "id": "OGpNM47nUxUx"
      },
      "execution_count": null,
      "outputs": []
    },
    {
      "cell_type": "code",
      "source": [
        "#app category having highest mumber of Reviews?\n",
        "fig, ax = plt.subplots(figsize = (10,5))\n",
        "ratings = [rating for rating,df in playstore_merged.groupby('Category')]\n",
        "plt.bar(ratings,results3['Reviews'])\n",
        "plt.xticks(ratings,rotation=90,ha='right',rotation_mode='anchor',size=8)\n",
        "plt.ylabel('Reviews')\n",
        "plt.xlabel('category names',labelpad=15)# Increase label padding\n",
        "plt.tight_layout()  # Adjust layout for better spacing\n",
        "plt.show()"
      ],
      "metadata": {
        "id": "YSumzqvgYafC"
      },
      "execution_count": null,
      "outputs": []
    },
    {
      "cell_type": "code",
      "source": [
        "da = playstore_merged[playstore_merged['Category'].duplicated(keep=False)] # to see duplicate rows\n",
        "da = da[['Category']].drop_duplicates()# to drop out the duplicates which occuring twice in data"
      ],
      "metadata": {
        "id": "noTGHHNeBNej"
      },
      "execution_count": null,
      "outputs": []
    },
    {
      "cell_type": "markdown",
      "source": [
        "##### 1. Why did you pick the specific chart?"
      ],
      "metadata": {
        "id": "iky9q4vBYrdO"
      }
    },
    {
      "cell_type": "markdown",
      "source": [
        "Answer Here.\n",
        "Bar charts used when we are showing segments of information.\n",
        "\n"
      ],
      "metadata": {
        "id": "aJRCwT6DYrdO"
      }
    },
    {
      "cell_type": "markdown",
      "source": [
        "##### 2. What is/are the insight(s) found from the chart?"
      ],
      "metadata": {
        "id": "F6T5p64dYrdO"
      }
    },
    {
      "cell_type": "markdown",
      "source": [
        "Answer Here.\n",
        "From chart we can say that category games has highest number of reviews."
      ],
      "metadata": {
        "id": "Xx8WAJvtYrdO"
      }
    },
    {
      "cell_type": "markdown",
      "source": [
        "##### 3. Will the gained insights help creating a positive business impact?\n",
        "Are there any insights that lead to negative growth? Justify with specific reason."
      ],
      "metadata": {
        "id": "y-Ehk30pYrdP"
      }
    },
    {
      "cell_type": "markdown",
      "source": [
        "Answer Here.\n",
        "only category games has number of reviews but other category not have that much of reviews because of that we cannot get any feedback from people it can lead to negative growth."
      ],
      "metadata": {
        "id": "jLNxxz7MYrdP"
      }
    },
    {
      "cell_type": "markdown",
      "source": [
        "#### Chart - 5"
      ],
      "metadata": {
        "id": "bamQiAODYuh1"
      }
    },
    {
      "cell_type": "code",
      "source": [
        "da = playstore_merged[playstore_merged['Last Updated'].duplicated(keep=False)] # to see duplicate rows\n",
        "da = da[['Last Updated']].drop_duplicates()# to drop out the duplicates which occuring twice in data"
      ],
      "metadata": {
        "id": "OTWqtYqkdsXP"
      },
      "execution_count": null,
      "outputs": []
    },
    {
      "cell_type": "code",
      "source": [
        "#top five apps based on Rating\n",
        "most_expensive_app=playstore_merged\n",
        "most_expensive_app.sort_values(by=\"Rating\",ascending=False)"
      ],
      "metadata": {
        "id": "yGEZqX4KT6DY"
      },
      "execution_count": null,
      "outputs": []
    },
    {
      "cell_type": "code",
      "source": [
        "# show the distribution of rating\n",
        "plt.figure(figsize=(10, 5))\n",
        "sns.countplot(x='Rating', data=playstore_merged)\n",
        "plt.title('Rating Distribution')\n",
        "plt.xticks(rotation=90)\n",
        "plt.ylabel('Number of Apps')\n",
        "plt.show()"
      ],
      "metadata": {
        "id": "0_gop_r0yaca"
      },
      "execution_count": null,
      "outputs": []
    },
    {
      "cell_type": "markdown",
      "source": [
        "##### 1. Why did you pick the specific chart?"
      ],
      "metadata": {
        "id": "QHF8YVU7Yuh3"
      }
    },
    {
      "cell_type": "markdown",
      "source": [
        "Answer Here.\n",
        "Bar charts used when we are showing segments of information.\n",
        "\n"
      ],
      "metadata": {
        "id": "dcxuIMRPYuh3"
      }
    },
    {
      "cell_type": "markdown",
      "source": [
        "##### 2. What is/are the insight(s) found from the chart?"
      ],
      "metadata": {
        "id": "GwzvFGzlYuh3"
      }
    },
    {
      "cell_type": "markdown",
      "source": [
        "Answer Here.\n",
        "From the chart we can say that numbers of app between 10000 to 12000 has highest number of reting like 4.3 to 4.5."
      ],
      "metadata": {
        "id": "uyqkiB8YYuh3"
      }
    },
    {
      "cell_type": "markdown",
      "source": [
        "##### 3. Will the gained insights help creating a positive business impact?\n",
        "Are there any insights that lead to negative growth? Justify with specific reason."
      ],
      "metadata": {
        "id": "qYpmQ266Yuh3"
      }
    },
    {
      "cell_type": "markdown",
      "source": [
        "Answer Here.\n"
      ],
      "metadata": {
        "id": "_WtzZ_hCYuh4"
      }
    },
    {
      "cell_type": "markdown",
      "source": [
        "#### Chart - 6"
      ],
      "metadata": {
        "id": "OH-pJp9IphqM"
      }
    },
    {
      "cell_type": "code",
      "source": [
        "# Compute the correlation matrix\n",
        "correlation_matrix = playstore_merged.corr()\n",
        "correlation_matrix"
      ],
      "metadata": {
        "id": "ZbvQMu4ozgmf"
      },
      "execution_count": null,
      "outputs": []
    },
    {
      "cell_type": "code",
      "source": [
        "# Chart - 6 visualization code\n",
        "# Plot heatmap\n",
        "#cmap='coolwarm'- to specify the color palette\n",
        "#fmt=\".2f\" to format the annotation values with two decimal places.\n",
        "plt.figure(figsize=(8, 6))\n",
        "sns.heatmap(correlation_matrix, annot=True, cmap='coolwarm', fmt=\".2f\") # annot=True-to display correlation values on heat map\n",
        "plt.title('Correlation Heatmap')\n",
        "plt.show()"
      ],
      "metadata": {
        "id": "kuRf4wtuphqN"
      },
      "execution_count": null,
      "outputs": []
    },
    {
      "cell_type": "markdown",
      "source": [
        "##### 1. Why did you pick the specific chart?"
      ],
      "metadata": {
        "id": "bbFf2-_FphqN"
      }
    },
    {
      "cell_type": "markdown",
      "source": [
        "Because it makes patterns easily readable and highlights the differences and variations in the same data.\n",
        "\n"
      ],
      "metadata": {
        "id": "loh7H2nzphqN"
      }
    },
    {
      "cell_type": "markdown",
      "source": [
        "##### 2. What is/are the insight(s) found from the chart?"
      ],
      "metadata": {
        "id": "_ouA3fa0phqN"
      }
    },
    {
      "cell_type": "markdown",
      "source": [
        "From our heatmap, we can visualize the correlation of the variables. some visualizations from the map are -\n",
        "\n",
        "1-The correlation between installs and ratings is very low\n",
        "\n",
        "2-The correlation between reviews and size is very high\n",
        "\n",
        "3- The moderate correlation variables are reviews vs rating, rating vs sentiment polarity\n",
        "\n",
        "4-The very low correlation between ratings, reviews, and installs.\n",
        "\n",
        "\n",
        "\n",
        "\n",
        "\n",
        "\n",
        "\n"
      ],
      "metadata": {
        "id": "VECbqPI7phqN"
      }
    },
    {
      "cell_type": "markdown",
      "source": [
        "##### 3. Will the gained insights help creating a positive business impact?\n",
        "Are there any insights that lead to negative growth? Justify with specific reason."
      ],
      "metadata": {
        "id": "Seke61FWphqN"
      }
    },
    {
      "cell_type": "markdown",
      "source": [
        "From the above heatmap, we can say that the correlation between Installation, size, and reviews of the apps gain a positive impact on business, and the relation between Ratings, Installation, and Reviews has a negative or less positive impact on business."
      ],
      "metadata": {
        "id": "DW4_bGpfphqN"
      }
    },
    {
      "cell_type": "markdown",
      "source": [
        "#### Chart - 7"
      ],
      "metadata": {
        "id": "PIIx-8_IphqN"
      }
    },
    {
      "cell_type": "code",
      "source": [
        "# Chart - 7 visualization code\n",
        "column_data = playstore_merged['Type']\n",
        "\n",
        "# Count the occurrences of each unique value in the column\n",
        "value_counts = column_data.value_counts()\n",
        "\n",
        "# Plotting a pie chart\n",
        "plt.figure(figsize=(4, 4))\n",
        "plt.pie(value_counts, labels=value_counts.index, autopct='%1.1f%%', startangle=140)\n",
        "plt.title('Type of free or paid apps')\n",
        "plt.axis('equal')  # Equal aspect ratio ensures that pie is drawn as a circle\n"
      ],
      "metadata": {
        "id": "lqAIGUfyphqO"
      },
      "execution_count": null,
      "outputs": []
    },
    {
      "cell_type": "markdown",
      "source": [
        "##### 1. Why did you pick the specific chart?"
      ],
      "metadata": {
        "id": "t27r6nlMphqO"
      }
    },
    {
      "cell_type": "markdown",
      "source": [
        "Pie charts show the parts-to-whole relationship\n",
        "\n",
        "Pie charts are often used in business. Examples include showing percentages of types of customers, percentage of revenue from different products, and profits from different countries."
      ],
      "metadata": {
        "id": "iv6ro40sphqO"
      }
    },
    {
      "cell_type": "markdown",
      "source": [
        "##### 2. What is/are the insight(s) found from the chart?"
      ],
      "metadata": {
        "id": "r2jJGEOYphqO"
      }
    },
    {
      "cell_type": "markdown",
      "source": [
        "From the abive pie chart we can say that 99% of apps are free and only 1% of apps are paid."
      ],
      "metadata": {
        "id": "Po6ZPi4hphqO"
      }
    },
    {
      "cell_type": "markdown",
      "source": [
        "##### 3. Will the gained insights help creating a positive business impact?\n",
        "Are there any insights that lead to negative growth? Justify with specific reason."
      ],
      "metadata": {
        "id": "b0JNsNcRphqO"
      }
    },
    {
      "cell_type": "markdown",
      "source": [
        "From the above pie chart, we can draw insight that most of the apps are free (approx 99%) and paid apps (approx 1%) Listing. It may lead to fewer installations of paid apps."
      ],
      "metadata": {
        "id": "xvSq8iUTphqO"
      }
    },
    {
      "cell_type": "markdown",
      "source": [
        "#### Chart - 8"
      ],
      "metadata": {
        "id": "BZR9WyysphqO"
      }
    },
    {
      "cell_type": "code",
      "source": [
        "# Chart - 8 visualization code\n",
        "# total percentile of age group on apps\n",
        "\n",
        "column_data = playstore_merged['Content Rating']\n",
        "\n",
        "# Count the occurrences of each unique value in the column\n",
        "value_counts = column_data.value_counts()\n",
        "\n",
        "# Plotting a pie chart\n",
        "plt.figure(figsize=(8, 4))\n",
        "plt.pie(value_counts, labels=value_counts.index, autopct='%1.1f%%', startangle=180)\n",
        "plt.title('percentile of Age group')\n",
        "plt.axis('equal')  # Equal aspect ratio ensures that pie is drawn as a circle\n"
      ],
      "metadata": {
        "id": "TdPTWpAVphqO"
      },
      "execution_count": null,
      "outputs": []
    },
    {
      "cell_type": "markdown",
      "source": [
        "##### 1. Why did you pick the specific chart?"
      ],
      "metadata": {
        "id": "jj7wYXLtphqO"
      }
    },
    {
      "cell_type": "markdown",
      "source": [
        "Pie charts show the parts-to-whole relationship\n",
        "\n",
        "So here we display the percentage of Apps with different age group restrictions."
      ],
      "metadata": {
        "id": "Ob8u6rCTphqO"
      }
    },
    {
      "cell_type": "markdown",
      "source": [
        "##### 2. What is/are the insight(s) found from the chart?"
      ],
      "metadata": {
        "id": "eZrbJ2SmphqO"
      }
    },
    {
      "cell_type": "markdown",
      "source": [
        "From the above plot, we can see that the Everyone category has the highest number of apps.\n",
        "And most of the remaining for Teen."
      ],
      "metadata": {
        "id": "mZtgC_hjphqO"
      }
    },
    {
      "cell_type": "markdown",
      "source": [
        "##### 3. Will the gained insights help creating a positive business impact?\n",
        "Are there any insights that lead to negative growth? Justify with specific reason."
      ],
      "metadata": {
        "id": "rFu4xreNphqO"
      }
    },
    {
      "cell_type": "markdown",
      "source": [
        "From the above piechart we can show that most of the apps are no age restriction mins they will gain more users, restricted apps are fewer users base.\n",
        "\n",
        ""
      ],
      "metadata": {
        "id": "ey_0qi68phqO"
      }
    },
    {
      "cell_type": "markdown",
      "source": [
        "#### Chart - 9"
      ],
      "metadata": {
        "id": "YJ55k-q6phqO"
      }
    },
    {
      "cell_type": "code",
      "source": [
        "# Chart - 9 visualization code\n",
        "# show the distribution of rating\n",
        "plt.figure(figsize=(10, 5))\n",
        "sns.countplot(x='Android Ver', data=playstore_merged)\n",
        "plt.title('Rating Distribution')\n",
        "plt.xticks(rotation=90)\n",
        "plt.ylabel('Number of Apps')\n",
        "plt.show()"
      ],
      "metadata": {
        "id": "B2aS4O1ophqO"
      },
      "execution_count": null,
      "outputs": []
    },
    {
      "cell_type": "markdown",
      "source": [
        "##### 1. Why did you pick the specific chart?"
      ],
      "metadata": {
        "id": "gCFgpxoyphqP"
      }
    },
    {
      "cell_type": "markdown",
      "source": [
        "Bar charts should be used when we are showing segments of information.\n",
        "\n"
      ],
      "metadata": {
        "id": "TVxDimi2phqP"
      }
    },
    {
      "cell_type": "markdown",
      "source": [
        "##### 2. What is/are the insight(s) found from the chart?"
      ],
      "metadata": {
        "id": "OVtJsKN_phqQ"
      }
    },
    {
      "cell_type": "markdown",
      "source": [
        "Most of the apps are based on device version and second are 4.1 version.\n",
        "\n"
      ],
      "metadata": {
        "id": "ngGi97qjphqQ"
      }
    },
    {
      "cell_type": "markdown",
      "source": [
        "##### 3. Will the gained insights help creating a positive business impact?\n",
        "Are there any insights that lead to negative growth? Justify with specific reason."
      ],
      "metadata": {
        "id": "lssrdh5qphqQ"
      }
    },
    {
      "cell_type": "markdown",
      "source": [
        "Most of the apps are based on android version 4.1 and also varies with device version but some apps are not compatible with current android versions.\n",
        "\n"
      ],
      "metadata": {
        "id": "tBpY5ekJphqQ"
      }
    },
    {
      "cell_type": "markdown",
      "source": [
        "#### Chart - 10"
      ],
      "metadata": {
        "id": "U2RJ9gkRphqQ"
      }
    },
    {
      "cell_type": "code",
      "source": [
        "#top five apps based on type\n",
        "most_expensive_app=playstore_merged\n",
        "most_expensive_app.sort_values(by=\"Type\",ascending=False)"
      ],
      "metadata": {
        "id": "ZDVTSLBaSjQd"
      },
      "execution_count": null,
      "outputs": []
    },
    {
      "cell_type": "code",
      "source": [
        "# Chart - 10 visualization code\n",
        "# bar graph of top five category\n",
        "# Count the occurrences of each category\n",
        "category_counts = playstore_merged['Category'].value_counts()\n",
        "\n",
        "# Select top 5 categories\n",
        "top_5_categories = category_counts.head(5)\n",
        "\n",
        "# Plotting\n",
        "plt.figure(figsize=(10, 6))\n",
        "top_5_categories.plot(kind='bar', color='orange')\n",
        "plt.xlabel('App Categories')\n",
        "plt.ylabel('Number of Apps')\n",
        "plt.title('Top 5 App Categories')\n",
        "plt.xticks(rotation=90)\n",
        "plt.tight_layout()\n",
        "plt.show()"
      ],
      "metadata": {
        "id": "GM7a4YP4phqQ"
      },
      "execution_count": null,
      "outputs": []
    },
    {
      "cell_type": "markdown",
      "source": [
        "##### 1. Why did you pick the specific chart?"
      ],
      "metadata": {
        "id": "1M8mcRywphqQ"
      }
    },
    {
      "cell_type": "markdown",
      "source": [
        "Bar charts should be used when we are showing segments of information.\n",
        "\n"
      ],
      "metadata": {
        "id": "8agQvks0phqQ"
      }
    },
    {
      "cell_type": "markdown",
      "source": [
        "##### 2. What is/are the insight(s) found from the chart?"
      ],
      "metadata": {
        "id": "tgIPom80phqQ"
      }
    },
    {
      "cell_type": "markdown",
      "source": [
        "from the chart we can see the top five performing apps category on playstore where is:\n",
        "\n",
        "1st category is - Games\n",
        "2st category is - Family\n",
        "3st category is - Health And Fitness\n",
        "4st category is - Sports\n",
        "5st category is - Dating\n",
        "\n"
      ],
      "metadata": {
        "id": "Qp13pnNzphqQ"
      }
    },
    {
      "cell_type": "markdown",
      "source": [
        "##### 3. Will the gained insights help creating a positive business impact?\n",
        "Are there any insights that lead to negative growth? Justify with specific reason."
      ],
      "metadata": {
        "id": "JMzcOPDDphqR"
      }
    },
    {
      "cell_type": "markdown",
      "source": [
        "from insights we can say that these top five apps will lead the business to the positive site.\n"
      ],
      "metadata": {
        "id": "R4Ka1PC2phqR"
      }
    },
    {
      "cell_type": "code",
      "source": [
        "# Count occurrences of each app\n",
        "app_counts = playstore_merged['Category'].value_counts()\n",
        "\n",
        "# Sort the app counts in ascending order\n",
        "sorted_app_counts = app_counts.sort_values()\n",
        "\n",
        "# Get the top five least common apps\n",
        "top_five_least_common_apps = sorted_app_counts.head(5)\n",
        "\n",
        "print(\"Least common apps:\")\n",
        "print(top_five_least_common_apps)"
      ],
      "metadata": {
        "id": "vDjnwIxcCY6o"
      },
      "execution_count": null,
      "outputs": []
    },
    {
      "cell_type": "code",
      "source": [
        "# Plotting\n",
        "plt.figure(figsize=(10, 6))\n",
        "top_five_least_common_apps.plot(kind='bar', color='skyblue')\n",
        "plt.title('Top Five Least Common Apps')\n",
        "plt.xlabel('App Name')\n",
        "plt.ylabel('Occurrences')\n",
        "plt.xticks(rotation=90)\n",
        "plt.tight_layout()\n",
        "plt.show()"
      ],
      "metadata": {
        "id": "t16Iq3f0AWG-"
      },
      "execution_count": null,
      "outputs": []
    },
    {
      "cell_type": "markdown",
      "source": [
        "from the chart we can see the top five least performing apps category on playstore where is:\n",
        "\n",
        "1st category is - Comics\n",
        "\n",
        "2st category is - Events\n",
        "\n",
        "3st category is - Maps and Nevigation\n",
        "\n",
        "4st category is - Weather\n",
        "\n",
        "5st category is - Parenting\n",
        "\n",
        "from insights we can see that these are the  top five least performing apps which can impact the business. we need more improvement in these categories so the traffic should increase in these categories which can lead the business to positive mode in these categories.\n"
      ],
      "metadata": {
        "id": "9OEhSHTBFHOp"
      }
    },
    {
      "cell_type": "markdown",
      "source": [
        "#### Chart - 11"
      ],
      "metadata": {
        "id": "x-EpHcCOp1ci"
      }
    },
    {
      "cell_type": "code",
      "source": [
        "# Chart - 11 visualization code\n",
        "#histogram on size\n",
        "plt.figure(figsize=(10, 6))\n",
        "plt.hist(playstore_merged['Size'],color = \"skyblue\")\n",
        "plt.xlabel(\"Size\",fontsize=16)\n",
        "plt.title(\"Distribution of Size\",fontsize=16)\n",
        "plt.ylabel(\"Number of apps\",fontsize=16)\n",
        "plt.show()"
      ],
      "metadata": {
        "id": "mAQTIvtqp1cj"
      },
      "execution_count": null,
      "outputs": []
    },
    {
      "cell_type": "markdown",
      "source": [
        "##### 1. Why did you pick the specific chart?"
      ],
      "metadata": {
        "id": "X_VqEhTip1ck"
      }
    },
    {
      "cell_type": "markdown",
      "source": [
        "A histogram is basically used to represent data provided in a form of some groups.It is accurate method for the graphical representation of numerical data distribution\n",
        "\n"
      ],
      "metadata": {
        "id": "-vsMzt_np1ck"
      }
    },
    {
      "cell_type": "markdown",
      "source": [
        "##### 2. What is/are the insight(s) found from the chart?"
      ],
      "metadata": {
        "id": "8zGJKyg5p1ck"
      }
    },
    {
      "cell_type": "markdown",
      "source": [
        "Most of the app's size are between 1 to 20Mb mins most of the apps are small in size.\n",
        "\n"
      ],
      "metadata": {
        "id": "ZYdMsrqVp1ck"
      }
    },
    {
      "cell_type": "markdown",
      "source": [
        "##### 3. Will the gained insights help creating a positive business impact?\n",
        "Are there any insights that lead to negative growth? Justify with specific reason."
      ],
      "metadata": {
        "id": "PVzmfK_Ep1ck"
      }
    },
    {
      "cell_type": "markdown",
      "source": [
        "From the histogram, we can say that most of the apps are small in size between 1 Mb to 20 Mb. we can insight that if the app size is beyond this range so maybe it leads to fewer installations.\n",
        "\n"
      ],
      "metadata": {
        "id": "druuKYZpp1ck"
      }
    },
    {
      "cell_type": "markdown",
      "source": [
        "#### Chart - 12"
      ],
      "metadata": {
        "id": "n3dbpmDWp1ck"
      }
    },
    {
      "cell_type": "code",
      "source": [
        "# Chart - 12 visualization code\n",
        "#histograme based on polarity\n",
        "plt.figure(figsize=(10,6))\n",
        "plt.hist(playstore_merged[playstore_merged['Sentiment_Polarity'].notnull()]['Sentiment_Polarity'],color = \"skyblue\")\n",
        "plt.xlabel(\"Polarity\",fontsize=16)\n",
        "plt.title(\"Distribution of polarity\",fontsize=16)\n",
        "plt.show()"
      ],
      "metadata": {
        "id": "bwevp1tKp1ck"
      },
      "execution_count": null,
      "outputs": []
    },
    {
      "cell_type": "markdown",
      "source": [
        "##### 1. Why did you pick the specific chart?"
      ],
      "metadata": {
        "id": "ylSl6qgtp1ck"
      }
    },
    {
      "cell_type": "markdown",
      "source": [
        "Histograms provide a visual representation of the distribution of data. They show how the data is spread out across different value ranges or bins.\n",
        "we can identify patterns such as whether the data is symmetrically distributed, skewed to the left or right, or has multiple peaks."
      ],
      "metadata": {
        "id": "m2xqNkiQp1ck"
      }
    },
    {
      "cell_type": "markdown",
      "source": [
        "##### 2. What is/are the insight(s) found from the chart?"
      ],
      "metadata": {
        "id": "ZWILFDl5p1ck"
      }
    },
    {
      "cell_type": "markdown",
      "source": [
        "It can be seen that the maximum number of sentiment polarity lies between 0.0 to 0.50 means skews toward right .it mins most people have positive sentiment\n",
        "\n"
      ],
      "metadata": {
        "id": "x-lUsV2mp1ck"
      }
    },
    {
      "cell_type": "markdown",
      "source": [
        "##### 3. Will the gained insights help creating a positive business impact?\n",
        "Are there any insights that lead to negative growth? Justify with specific reason."
      ],
      "metadata": {
        "id": "M7G43BXep1ck"
      }
    },
    {
      "cell_type": "markdown",
      "source": [
        "The maximum number of sentiment polarity lies between 0.0 to 0.50.it mins most people have positive sentiment which is good for business.\n",
        "\n"
      ],
      "metadata": {
        "id": "5wwDJXsLp1cl"
      }
    },
    {
      "cell_type": "markdown",
      "source": [
        "#### Chart - 13"
      ],
      "metadata": {
        "id": "Ag9LCva-p1cl"
      }
    },
    {
      "cell_type": "code",
      "source": [
        "# Chart - 13 visualization code\n",
        "plt.figure(figsize=(14,7))\n",
        "sns.scatterplot(data=playstore_merged,x='Sentiment_Subjectivity', y='Sentiment_Polarity',hue=\"Sentiment\")\n",
        "plt.title(\"Does sentiment_subjectivity proportional to sentiment_polarity\",fontsize=16)\n",
        "plt.show()"
      ],
      "metadata": {
        "id": "EUfxeq9-p1cl"
      },
      "execution_count": null,
      "outputs": []
    },
    {
      "cell_type": "markdown",
      "source": [
        "##### 1. Why did you pick the specific chart?"
      ],
      "metadata": {
        "id": "E6MkPsBcp1cl"
      }
    },
    {
      "cell_type": "markdown",
      "source": [
        "Scatter plots provide a visual representation of the relationship between two variables like sentiment subjectivity and sentiment polarity, helping to identify patterns, trends, and correlations."
      ],
      "metadata": {
        "id": "V22bRsFWp1cl"
      }
    },
    {
      "cell_type": "markdown",
      "source": [
        "##### 2. What is/are the insight(s) found from the chart?"
      ],
      "metadata": {
        "id": "2cELzS2fp1cl"
      }
    },
    {
      "cell_type": "markdown",
      "source": [
        "From the above scatter plot it can be concluded that sentiment subjectivity is not always proportional to sentiment polarity but in maximum number of case, shows a proportional behavior, when variance is too high or low\n",
        "\n"
      ],
      "metadata": {
        "id": "ozQPc2_Ip1cl"
      }
    },
    {
      "cell_type": "markdown",
      "source": [
        "##### 3. Will the gained insights help creating a positive business impact?\n",
        "Are there any insights that lead to negative growth? Justify with specific reason."
      ],
      "metadata": {
        "id": "3MPXvC8up1cl"
      }
    },
    {
      "cell_type": "markdown",
      "source": [
        "sentiment subjectivity is not always proportional to sentiment polarity but in maximum number of case, shows a proportional behavior, when variance is too high or low.\n",
        "\n"
      ],
      "metadata": {
        "id": "GL8l1tdLp1cl"
      }
    },
    {
      "cell_type": "markdown",
      "source": [
        "#### Chart - 14 - Correlation Heatmap"
      ],
      "metadata": {
        "id": "NC_X3p0fY2L0"
      }
    },
    {
      "cell_type": "code",
      "source": [
        "# Correlation Heatmap visualization code"
      ],
      "metadata": {
        "id": "xyC9zolEZNRQ"
      },
      "execution_count": null,
      "outputs": []
    },
    {
      "cell_type": "markdown",
      "source": [
        "##### 1. Why did you pick the specific chart?"
      ],
      "metadata": {
        "id": "UV0SzAkaZNRQ"
      }
    },
    {
      "cell_type": "markdown",
      "source": [
        "Answer Here."
      ],
      "metadata": {
        "id": "DVPuT8LYZNRQ"
      }
    },
    {
      "cell_type": "markdown",
      "source": [
        "##### 2. What is/are the insight(s) found from the chart?"
      ],
      "metadata": {
        "id": "YPEH6qLeZNRQ"
      }
    },
    {
      "cell_type": "markdown",
      "source": [
        "Answer Here"
      ],
      "metadata": {
        "id": "bfSqtnDqZNRR"
      }
    },
    {
      "cell_type": "markdown",
      "source": [
        "#### Chart - 15 - Pair Plot"
      ],
      "metadata": {
        "id": "q29F0dvdveiT"
      }
    },
    {
      "cell_type": "code",
      "source": [
        "# Pair Plot visualization code"
      ],
      "metadata": {
        "id": "o58-TEIhveiU"
      },
      "execution_count": null,
      "outputs": []
    },
    {
      "cell_type": "markdown",
      "source": [
        "##### 1. Why did you pick the specific chart?"
      ],
      "metadata": {
        "id": "EXh0U9oCveiU"
      }
    },
    {
      "cell_type": "markdown",
      "source": [
        "Answer Here."
      ],
      "metadata": {
        "id": "eMmPjTByveiU"
      }
    },
    {
      "cell_type": "markdown",
      "source": [
        "##### 2. What is/are the insight(s) found from the chart?"
      ],
      "metadata": {
        "id": "22aHeOlLveiV"
      }
    },
    {
      "cell_type": "markdown",
      "source": [
        "Answer Here"
      ],
      "metadata": {
        "id": "uPQ8RGwHveiV"
      }
    },
    {
      "cell_type": "markdown",
      "source": [
        "## **5. Solution to Business Objective**"
      ],
      "metadata": {
        "id": "JcMwzZxoAimU"
      }
    },
    {
      "cell_type": "markdown",
      "source": [
        "#### What do you suggest the client to achieve Business Objective ?\n",
        "Explain Briefly."
      ],
      "metadata": {
        "id": "8G2x9gOozGDZ"
      }
    },
    {
      "cell_type": "markdown",
      "source": [
        "There are some useful insights for the client to achieve their business objective\n",
        "\n",
        "some insights like free apps have more installations and ratings in the android market.\n",
        "\n",
        "category like Games and Family has positive market in world.\n",
        "\n",
        "categories like GAME,Photography,Social,Communication Family, Health And Fitness, Sports, and Dating of having the highest amount of installs, ratings, and reviews are reflecting the current trend of Android users.\n",
        "\n",
        "category like Comic ,Event and Maps and Nevigation has very low growth in business.\n",
        "\n",
        "The median size of all apps in the play store is 12 MB."
      ],
      "metadata": {
        "id": "pASKb0qOza21"
      }
    },
    {
      "cell_type": "markdown",
      "source": [
        "# **Conclusion**"
      ],
      "metadata": {
        "id": "gCX9965dhzqZ"
      }
    },
    {
      "cell_type": "markdown",
      "source": [
        "The Google Play Store Apps report provides some useful insights regarding the trending of the apps in the play store. As per the graphs visualizations shown above, most of the trending apps (in terms of users' installs) are from the categories like GAME, COMMUNICATION,Family and Photography even though the amount of available apps from these categories are twice as much lesser than the category FAMILY. The trending of these apps are most probably due to their nature of being able to entertain or assist the user. Besides, it also shows a good trend where we can see that developers from these categories are focusing on the quality instead of the quantity of the apps.\n",
        "\n",
        "-Percentage of free apps = ~99%\n",
        "\n",
        "-Percentage of apps with no age restrictions = ~80%\n",
        "\n",
        "-Most competitive category: Game\n",
        "\n",
        "-Category with the highest number of installs: Game\n",
        "\n",
        "-Category with the highest average app installs: Communication\n",
        "\n",
        "-Percentage of apps that are top rated = ~80%\n",
        "\n",
        "-There are 20 free apps that have been installed over a billion times\n",
        "\n",
        "-Minecraft is the only app in the paid category with over 10M installs. This app has also produced the most revenue only from the installation fee.\n",
        "\n",
        "-Category in which the paid apps have the highest average installation fee: Medical\n",
        "\n",
        "-Most popular app in the Play Store based on the number of reviews: Facebook\n",
        "\n",
        "-Most popular app in the Play Store based on the number of reviews:AUTO_AND_VEHICLES\n",
        "\n",
        "-The median size of all apps in the play store is 12 MB."
      ],
      "metadata": {
        "id": "Fjb1IsQkh3yE"
      }
    },
    {
      "cell_type": "markdown",
      "source": [
        "### ***Hurrah! You have successfully completed your EDA Capstone Project !!!***"
      ],
      "metadata": {
        "id": "gIfDvo9L0UH2"
      }
    }
  ]
}